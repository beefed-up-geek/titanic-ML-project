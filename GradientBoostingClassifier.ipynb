{
  "nbformat": 4,
  "nbformat_minor": 0,
  "metadata": {
    "colab": {
      "provenance": [],
      "authorship_tag": "ABX9TyN5ZrI9wNSl0fnrlznY2z9K",
      "include_colab_link": true
    },
    "kernelspec": {
      "name": "python3",
      "display_name": "Python 3"
    },
    "language_info": {
      "name": "python"
    }
  },
  "cells": [
    {
      "cell_type": "markdown",
      "metadata": {
        "id": "view-in-github",
        "colab_type": "text"
      },
      "source": [
        "<a href=\"https://colab.research.google.com/github/nullPointerExcept10n/titanic-ML-project/blob/main/GradientBoostingClassifier.ipynb\" target=\"_parent\"><img src=\"https://colab.research.google.com/assets/colab-badge.svg\" alt=\"Open In Colab\"/></a>"
      ]
    },
    {
      "cell_type": "code",
      "source": [
        "from google.colab import drive\n",
        "drive.mount('/content/drive')"
      ],
      "metadata": {
        "colab": {
          "base_uri": "https://localhost:8080/"
        },
        "id": "H_RI4LO7hSSK",
        "outputId": "980f5ed3-eda5-4321-9d30-08abc062c0e9"
      },
      "execution_count": 1,
      "outputs": [
        {
          "output_type": "stream",
          "name": "stdout",
          "text": [
            "Mounted at /content/drive\n"
          ]
        }
      ]
    },
    {
      "cell_type": "code",
      "source": [
        "cd /content/drive/MyDrive/titanicproject"
      ],
      "metadata": {
        "colab": {
          "base_uri": "https://localhost:8080/"
        },
        "id": "nYoLWD0whWlN",
        "outputId": "4d94f5d1-53c5-4701-e1ac-c9226b84a1e5"
      },
      "execution_count": 2,
      "outputs": [
        {
          "output_type": "stream",
          "name": "stdout",
          "text": [
            "/content/drive/MyDrive/titanicproject\n"
          ]
        }
      ]
    },
    {
      "cell_type": "code",
      "source": [
        "#@title importing libraries\n",
        "import warnings\n",
        "warnings.filterwarnings('ignore')\n",
        "\n",
        "import os\n",
        "from pandas_profiling import ProfileReport\n",
        "from statsmodels.stats.proportion import proportions_ztest\n",
        "import pandas as pd\n",
        "import numpy as np\n",
        "import matplotlib\n",
        "import matplotlib.pyplot as plt\n",
        "import seaborn as sns\n",
        "from sklearn.model_selection import train_test_split\n",
        "from sklearn.preprocessing import LabelEncoder\n",
        "import pandas_profiling\n",
        "%matplotlib inline"
      ],
      "metadata": {
        "cellView": "form",
        "id": "DDSqekkphm38"
      },
      "execution_count": 4,
      "outputs": []
    },
    {
      "cell_type": "code",
      "source": [
        "train_data = pd.read_csv(\"./train.csv\")\n",
        "test_data = pd.read_csv(\"./test.csv\")"
      ],
      "metadata": {
        "id": "cO2rxmVlhZU_"
      },
      "execution_count": 5,
      "outputs": []
    },
    {
      "cell_type": "code",
      "execution_count": 6,
      "metadata": {
        "colab": {
          "base_uri": "https://localhost:8080/"
        },
        "cellView": "form",
        "id": "UQtALlrwhD9t",
        "outputId": "00dc869c-cee8-4a6e-f2ed-0b1a78212ec5"
      },
      "outputs": [
        {
          "output_type": "stream",
          "name": "stdout",
          "text": [
            "<class 'pandas.core.frame.DataFrame'>\n",
            "Int64Index: 1308 entries, 0 to 1308\n",
            "Data columns (total 8 columns):\n",
            " #   Column        Non-Null Count  Dtype  \n",
            "---  ------        --------------  -----  \n",
            " 0   Survived      1308 non-null   int64  \n",
            " 1   Pclass        1308 non-null   int64  \n",
            " 2   Sex           1308 non-null   int64  \n",
            " 3   Age           1308 non-null   float64\n",
            " 4   Fare          1308 non-null   float64\n",
            " 5   Embarked_int  1308 non-null   int64  \n",
            " 6   Family        1308 non-null   int64  \n",
            " 7   isAlone       1308 non-null   int64  \n",
            "dtypes: float64(2), int64(6)\n",
            "memory usage: 92.0 KB\n"
          ]
        }
      ],
      "source": [
        "#@title Cleaning Data\n",
        "test_data['Survived']=-1   #test_data의 target 변수에 '777' 넣기\n",
        "full_data=pd.concat([train_data, test_data],axis=0,ignore_index=True) #전처리 위해 train, test 데이터 결합\n",
        "\n",
        "full_data = full_data.drop(['PassengerId','Ticket','Cabin','Name'],axis = 1)\n",
        "full_data['Sex']=LabelEncoder().fit(['female','male']).transform(full_data['Sex'])\n",
        "full_data['Embarked']=LabelEncoder().fit_transform(full_data['Embarked'])\n",
        "full_data['Embarked_int']=pd.to_numeric(full_data['Embarked'])\n",
        "\n",
        "\n",
        "sib_section = [-1,0,2,9]\n",
        "par_section = [-1,0,3,10]\n",
        "sib_group = [0,1,2] \n",
        "par_group = [0,1,2]\n",
        "\n",
        "sib = pd.cut(full_data['SibSp'],sib_section,labels=sib_group)\n",
        "par = pd.cut(full_data['Parch'],par_section,labels=par_group)\n",
        "full_data['siblings'] = sib\n",
        "full_data['parents'] = par\n",
        "\n",
        "\n",
        "full_data.loc[(full_data.Age.isnull())&(full_data.Pclass==1)&(full_data.siblings==0)&(full_data.parents==0),'Age']=41\n",
        "full_data.loc[(full_data.Age.isnull())&(full_data.Pclass==1)&(full_data.siblings==0)&(full_data.parents==1),'Age']=34\n",
        "full_data.loc[(full_data.Age.isnull())&(full_data.Pclass==1)&(full_data.siblings==1)&(full_data.parents==0),'Age']=40\n",
        "full_data.loc[(full_data.Age.isnull())&(full_data.Pclass==2)&(full_data.siblings==0)&(full_data.parents==0),'Age']=32\n",
        "full_data.loc[(full_data.Age.isnull())&(full_data.Pclass==3)&(full_data.siblings==0)&(full_data.parents==0),'Age']=28\n",
        "full_data.loc[(full_data.Age.isnull())&(full_data.Pclass==3)&(full_data.siblings==0)&(full_data.parents==1),'Age']=21\n",
        "full_data.loc[(full_data.Age.isnull())&(full_data.Pclass==3)&(full_data.siblings==0)&(full_data.parents==2),'Age']=36\n",
        "full_data.loc[(full_data.Age.isnull())&(full_data.Pclass==3)&(full_data.siblings==1)&(full_data.parents==0),'Age']=26\n",
        "full_data.loc[(full_data.Age.isnull())&(full_data.Pclass==3)&(full_data.siblings==1)&(full_data.parents==1),'Age']=16\n",
        "full_data.loc[(full_data.Age.isnull())&(full_data.Pclass==3)&(full_data.siblings==1)&(full_data.parents==2),'Age']=41\n",
        "full_data.loc[(full_data.Age.isnull())&(full_data.Pclass==3)&(full_data.siblings==2)&(full_data.parents==1),'Age']=9\n",
        "\n",
        "full_data.loc[(full_data.Embarked.isnull())&(full_data.Pclass==1),'Embarked']='S'\n",
        "full_data = full_data.dropna()\n",
        "full_data['Family'] = full_data['SibSp']+full_data['Parch'] \n",
        "full_data = full_data.drop(['SibSp','Parch','siblings', 'parents','Embarked'],axis = 1)\n",
        "full_data.astype(\"float\")\n",
        "\n",
        "full_data['isAlone'] = 0\n",
        "full_data.loc[(full_data.Family ==0),'isAlone'] = 1\n",
        "\n",
        "\n",
        "train_data_processed = full_data[full_data['Survived'] != -1]\n",
        "test_data_processed  = full_data[full_data['Survived'] == -1]\n",
        "\n",
        "\n",
        "full_data.info()"
      ]
    },
    {
      "cell_type": "code",
      "source": [
        "X_train, X_test, y_train, y_test = train_test_split(train_data_processed[[\"Pclass\",\"Sex\",\"Age\",\"Fare\",\"Embarked_int\",\"Family\",\"isAlone\"]],train_data_processed[[\"Survived\"]], random_state=11,test_size = 0.3)"
      ],
      "metadata": {
        "id": "FLenwdfRkm9c"
      },
      "execution_count": 10,
      "outputs": []
    },
    {
      "cell_type": "code",
      "source": [
        "from sklearn.ensemble import GradientBoostingClassifier\n",
        "\n",
        "clf = GradientBoostingClassifier(n_estimators = 100)\n",
        "model4 = clf.fit(X_train, y_train)\n",
        "\n",
        "preds = model4.predict(X_test)\n",
        "acc = (accuracy_score(y_test, preds))* 100\n",
        "print(f'Accuracy Score: {acc:.2f}%')"
      ],
      "metadata": {
        "colab": {
          "base_uri": "https://localhost:8080/"
        },
        "id": "NxJvKLtHkM4e",
        "outputId": "925c1689-5b1f-4948-a3d2-cba5b2260c8c"
      },
      "execution_count": 11,
      "outputs": [
        {
          "output_type": "stream",
          "name": "stdout",
          "text": [
            "Accuracy Score: 84.70%\n"
          ]
        }
      ]
    },
    {
      "cell_type": "code",
      "source": [
        "from sklearn.metrics import confusion_matrix\n",
        "\n",
        "cm = confusion_matrix(y_test, preds)\n",
        "print(f'Confusion Matrix: \\n{cm}')\n",
        "\n",
        "sns.heatmap(cm, annot=True, cmap='nipy_spectral_r')"
      ],
      "metadata": {
        "colab": {
          "base_uri": "https://localhost:8080/",
          "height": 339
        },
        "id": "v427SdB_k6su",
        "outputId": "f0fbbcb2-f37d-4b4c-8aeb-c1fe49561b64"
      },
      "execution_count": 12,
      "outputs": [
        {
          "output_type": "stream",
          "name": "stdout",
          "text": [
            "Confusion Matrix: \n",
            "[[162  14]\n",
            " [ 27  65]]\n"
          ]
        },
        {
          "output_type": "execute_result",
          "data": {
            "text/plain": [
              "<matplotlib.axes._subplots.AxesSubplot at 0x7fbb45a265b0>"
            ]
          },
          "metadata": {},
          "execution_count": 12
        },
        {
          "output_type": "display_data",
          "data": {
            "text/plain": [
              "<Figure size 432x288 with 2 Axes>"
            ],
            "image/png": "[encoded data removed]"
          },
          "metadata": {
            "needs_background": "light"
          }
        }
      ]
    },
    {
      "cell_type": "code",
      "source": [
        "from xgboost import XGBClassifier\n",
        "from sklearn.metrics import accuracy_score\n",
        "\n",
        "\n",
        "my_model1 = XGBClassifier(random_state = 11)\n",
        "my_model1.fit(X_train, y_train)\n",
        "\n",
        "preds = my_model1.predict(X_test)\n",
        "acc = (accuracy_score(y_test, preds))* 100\n",
        "print(f'Accuracy Score: {acc:.2f}%')\n"
      ],
      "metadata": {
        "colab": {
          "base_uri": "https://localhost:8080/"
        },
        "id": "8fN5cNChh8Mn",
        "outputId": "75a2ecf2-6205-4ddb-9573-aec0768a1fbd"
      },
      "execution_count": 8,
      "outputs": [
        {
          "output_type": "stream",
          "name": "stdout",
          "text": [
            "Accuracy Score: 84.70%\n"
          ]
        }
      ]
    },
    {
      "cell_type": "code",
      "source": [
        "from sklearn.metrics import confusion_matrix\n",
        "\n",
        "cm = confusion_matrix(y_test, preds)\n",
        "print(f'Confusion Matrix: \\n{cm}')\n",
        "\n",
        "sns.heatmap(cm, annot=True, cmap='nipy_spectral_r')"
      ],
      "metadata": {
        "colab": {
          "base_uri": "https://localhost:8080/",
          "height": 342
        },
        "id": "9GY04HDijuyJ",
        "outputId": "b5dcd00a-d1ca-4a72-fc42-551b373754f6"
      },
      "execution_count": 9,
      "outputs": [
        {
          "output_type": "stream",
          "name": "stdout",
          "text": [
            "Confusion Matrix: \n",
            "[[160  16]\n",
            " [ 25  67]]\n"
          ]
        },
        {
          "output_type": "execute_result",
          "data": {
            "text/plain": [
              "<matplotlib.axes._subplots.AxesSubplot at 0x7fbb51f67cd0>"
            ]
          },
          "metadata": {},
          "execution_count": 9
        },
        {
          "output_type": "display_data",
          "data": {
            "text/plain": [
              "<Figure size 432x288 with 2 Axes>"
            ],
            "image/png": "[encoded data removed]"
          },
          "metadata": {
            "needs_background": "light"
          }
        }
      ]
    }
  ]
}