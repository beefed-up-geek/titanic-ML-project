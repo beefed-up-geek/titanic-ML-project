{
  "nbformat": 4,
  "nbformat_minor": 0,
  "metadata": {
    "colab": {
      "provenance": [],
      "include_colab_link": true
    },
    "kernelspec": {
      "name": "python3",
      "display_name": "Python 3"
    },
    "language_info": {
      "name": "python"
    }
  },
  "cells": [
    {
      "cell_type": "markdown",
      "metadata": {
        "id": "view-in-github",
        "colab_type": "text"
      },
      "source": [
        "<a href=\"https://colab.research.google.com/github/nullPointerExcept10n/titanic-ML-project/blob/main/MODEL_20221202.ipynb\" target=\"_parent\"><img src=\"https://colab.research.google.com/assets/colab-badge.svg\" alt=\"Open In Colab\"/></a>"
      ]
    },
    {
      "cell_type": "code",
      "execution_count": 73,
      "metadata": {
        "colab": {
          "base_uri": "https://localhost:8080/"
        },
        "id": "w-NzN1qcpOUq",
        "outputId": "8d0f8f0c-8322-4b51-c9e8-c78a060d2e8e"
      },
      "outputs": [
        {
          "output_type": "stream",
          "name": "stdout",
          "text": [
            "Drive already mounted at /content/drive; to attempt to forcibly remount, call drive.mount(\"/content/drive\", force_remount=True).\n"
          ]
        }
      ],
      "source": [
        "from google.colab import drive\n",
        "drive.mount('/content/drive')"
      ]
    },
    {
      "cell_type": "code",
      "source": [
        "cd /content/drive/MyDrive/titanicproject"
      ],
      "metadata": {
        "colab": {
          "base_uri": "https://localhost:8080/"
        },
        "id": "01jr_f3JynZm",
        "outputId": "47049270-98d3-4bf2-c53a-7ae27cf4f3b7"
      },
      "execution_count": 74,
      "outputs": [
        {
          "output_type": "stream",
          "name": "stdout",
          "text": [
            "/content/drive/MyDrive/titanicproject\n"
          ]
        }
      ]
    },
    {
      "cell_type": "code",
      "source": [
        "#cd /content/drive/.shortcut-targets-by-id/1f4WLuAmHC7JJjiAzTdGvUjIEw1zxqyW_/titanicproject"
      ],
      "metadata": {
        "id": "RZ4yyKiOqzLB"
      },
      "execution_count": 75,
      "outputs": []
    },
    {
      "cell_type": "code",
      "source": [
        "import numpy as np\n",
        "import pandas as pd\n",
        "import matplotlib.pyplot as plt\n",
        "import seaborn as sns\n",
        "from sklearn.model_selection import train_test_split\n",
        "from sklearn.preprocessing import LabelEncoder\n",
        "\n",
        "import os\n",
        "import pandas as pd\n",
        "import numpy as np\n",
        "import seaborn as sns\n",
        "from matplotlib import pyplot as plt\n",
        "from pandas_profiling import ProfileReport\n",
        "from statsmodels.stats.proportion import proportions_ztest"
      ],
      "metadata": {
        "id": "IIMGQCavq0aS"
      },
      "execution_count": 76,
      "outputs": []
    },
    {
      "cell_type": "code",
      "source": [
        "train_data = pd.read_csv('./train.csv')\n",
        "test_data = pd.read_csv('./test.csv')"
      ],
      "metadata": {
        "id": "IioEZuUeq1UI"
      },
      "execution_count": 77,
      "outputs": []
    },
    {
      "cell_type": "code",
      "source": [
        "test_data['Survived']=777   #test_data의 target 변수에 '777' 넣기\n",
        "full_data=pd.concat([train_data, test_data],axis=0,ignore_index=True) #전처리 위해 train, test 데이터 결합"
      ],
      "metadata": {
        "id": "ccLd3g5lq2b2"
      },
      "execution_count": 78,
      "outputs": []
    },
    {
      "cell_type": "code",
      "source": [
        "corr_matrix = full_data.corr()\n",
        "plt.figure(figsize=(9, 8))\n",
        "sns.heatmap(data = corr_matrix,cmap='RdYlBu', annot=True, linewidths=0.2)"
      ],
      "metadata": {
        "colab": {
          "base_uri": "https://localhost:8080/"
        },
        "id": "IbYH_LPLuXzx",
        "outputId": "f8ad9313-dc79-4020-8277-ea3e90d15d71"
      },
      "execution_count": 79,
      "outputs": [
        {
          "output_type": "execute_result",
          "data": {
            "text/plain": [
              "<matplotlib.axes._subplots.AxesSubplot at 0x7f6d32b86670>"
            ]
          },
          "metadata": {},
          "execution_count": 79
        }
      ]
    },
    {
      "cell_type": "code",
      "source": [
        "# Age 결측치를 채우기 위해 parameter간의 상관관계 분석결과, age와의 상관관계가 높은\n",
        "#pclass, sibsp, parch data를 사용해 평균을 내어 채우기로함"
      ],
      "metadata": {
        "id": "2CkTyPkbvJcv"
      },
      "execution_count": 80,
      "outputs": []
    },
    {
      "cell_type": "code",
      "source": [
        "full_data = full_data.drop(['PassengerId','Ticket','Cabin','Fare','Name'],axis = 1)\n",
        "#승객 id, ticket번호, cabin(호수),fare, Name 제거"
      ],
      "metadata": {
        "id": "egeO875pvtzs"
      },
      "execution_count": 81,
      "outputs": []
    },
    {
      "cell_type": "markdown",
      "source": [],
      "metadata": {
        "id": "nnt3rjBG-Er4"
      }
    },
    {
      "cell_type": "code",
      "source": [
        "full_data.Age.isnull().sum()"
      ],
      "metadata": {
        "colab": {
          "base_uri": "https://localhost:8080/"
        },
        "id": "URNFw_IUvJ-S",
        "outputId": "d8b80156-63d1-4e8d-ba82-7a5a5b9f4f81"
      },
      "execution_count": 82,
      "outputs": [
        {
          "output_type": "execute_result",
          "data": {
            "text/plain": [
              "263"
            ]
          },
          "metadata": {},
          "execution_count": 82
        }
      ]
    },
    {
      "cell_type": "code",
      "source": [
        "full_data.info()"
      ],
      "metadata": {
        "colab": {
          "base_uri": "https://localhost:8080/"
        },
        "id": "IeP-U9z7vKKS",
        "outputId": "5c7c576d-29a2-435d-ba0e-a3bfb3dcb0ce"
      },
      "execution_count": 83,
      "outputs": [
        {
          "output_type": "stream",
          "name": "stdout",
          "text": [
            "<class 'pandas.core.frame.DataFrame'>\n",
            "RangeIndex: 1309 entries, 0 to 1308\n",
            "Data columns (total 7 columns):\n",
            " #   Column    Non-Null Count  Dtype  \n",
            "---  ------    --------------  -----  \n",
            " 0   Survived  1309 non-null   int64  \n",
            " 1   Pclass    1309 non-null   int64  \n",
            " 2   Sex       1309 non-null   object \n",
            " 3   Age       1046 non-null   float64\n",
            " 4   SibSp     1309 non-null   int64  \n",
            " 5   Parch     1309 non-null   int64  \n",
            " 6   Embarked  1307 non-null   object \n",
            "dtypes: float64(1), int64(4), object(2)\n",
            "memory usage: 71.7+ KB\n"
          ]
        }
      ]
    },
    {
      "cell_type": "code",
      "source": [
        "full_data['Sex']=LabelEncoder().fit(['female','male']).transform(full_data['Sex'])"
      ],
      "metadata": {
        "id": "Kq1_FB8HvKM7"
      },
      "execution_count": 84,
      "outputs": []
    },
    {
      "cell_type": "code",
      "source": [
        "full_data['Sex']"
      ],
      "metadata": {
        "colab": {
          "base_uri": "https://localhost:8080/"
        },
        "id": "mSWUG-BpvKTF",
        "outputId": "e244cbdd-7325-4b39-e338-05f862a7e9e4"
      },
      "execution_count": 85,
      "outputs": [
        {
          "output_type": "execute_result",
          "data": {
            "text/plain": [
              "0       1\n",
              "1       0\n",
              "2       0\n",
              "3       0\n",
              "4       1\n",
              "       ..\n",
              "1304    1\n",
              "1305    0\n",
              "1306    1\n",
              "1307    1\n",
              "1308    1\n",
              "Name: Sex, Length: 1309, dtype: int64"
            ]
          },
          "metadata": {},
          "execution_count": 85
        }
      ]
    },
    {
      "cell_type": "code",
      "source": [
        "bins = [-1,0,2,9] # Define bins as \n",
        "bins2 = [-1,0,3,10]\n",
        "group_names = [0,1,2] #구간 구분\n",
        "group_names2 = [0,1,2]\n",
        "\n",
        "bin_sib = pd.cut(full_data['SibSp'],bins,labels=group_names)\n",
        "bin_par = pd.cut(full_data['Parch'],bins2,labels=group_names2)\n",
        "full_data['binsib'] = bin_sib\n",
        "full_data['binpar'] = bin_par\n",
        "\n",
        "#sib, parch 나누어서 정리 "
      ],
      "metadata": {
        "id": "ZdBNmtKnO0BX"
      },
      "execution_count": 86,
      "outputs": []
    },
    {
      "cell_type": "code",
      "source": [
        "#train_data.groupby(['Sex', 'Pclass', 'SibSp', 'Parch'], as_index=False).mean() # 성별까지 고려한 경우 아직 이용안함"
      ],
      "metadata": {
        "id": "l6ntbemUvKVS"
      },
      "execution_count": 87,
      "outputs": []
    },
    {
      "cell_type": "code",
      "source": [
        "#full_data.groupby(['Pclass', 'SibSp', 'Parch'], as_index=False).mean()\n",
        "#결측치와 같은 조건의 데이터들 추출하고 평균 구하기"
      ],
      "metadata": {
        "id": "4ltrFCZevKXU"
      },
      "execution_count": 88,
      "outputs": []
    },
    {
      "cell_type": "code",
      "source": [
        "full_data.groupby(['Pclass', 'binsib', 'binpar'], as_index=False).mean()"
      ],
      "metadata": {
        "colab": {
          "base_uri": "https://localhost:8080/",
          "height": 896
        },
        "id": "N0fIHUDzS_I5",
        "outputId": "c501630c-7ab9-418b-eb1f-5eb57ceb84fc"
      },
      "execution_count": 89,
      "outputs": [
        {
          "output_type": "execute_result",
          "data": {
            "text/plain": [
              "    Pclass binsib binpar    Survived       Sex        Age     SibSp     Parch\n",
              "0        1      0      0  248.031250  0.675000  40.488281  0.000000  0.000000\n",
              "1        1      0      1  204.973684  0.394737  34.000000  0.000000  1.289474\n",
              "2        1      0      2         NaN       NaN        NaN       NaN       NaN\n",
              "3        1      1      0  265.817073  0.451220  39.618421  1.060976  0.000000\n",
              "4        1      1      1  336.432432  0.459459  39.241081  1.081081  1.432432\n",
              "5        1      1      2  388.500000  0.500000  62.000000  1.000000  4.000000\n",
              "6        1      2      0         NaN       NaN        NaN       NaN       NaN\n",
              "7        1      2      1  194.750000  0.250000  23.500000  3.000000  2.000000\n",
              "8        1      2      2         NaN       NaN        NaN       NaN       NaN\n",
              "9        2      0      0  265.784810  0.734177  32.218310  0.000000  0.000000\n",
              "10       2      0      1  259.583333  0.250000  24.513750  0.000000  1.625000\n",
              "11       2      0      2         NaN       NaN        NaN       NaN       NaN\n",
              "12       2      1      0  297.808511  0.617021  31.797872  1.106383  0.000000\n",
              "13       2      1      1  215.446809  0.425532  21.562128  1.148936  1.340426\n",
              "14       2      1      2         NaN       NaN        NaN       NaN       NaN\n",
              "15       2      2      0    1.000000  0.000000  30.000000  3.000000  0.000000\n",
              "16       2      2      1         NaN       NaN        NaN       NaN       NaN\n",
              "17       2      2      2         NaN       NaN        NaN       NaN       NaN\n",
              "18       3      0      0  243.781780  0.788136  27.607813  0.000000  0.000000\n",
              "19       3      0      1  244.600000  0.342857  20.454194  0.000000  1.600000\n",
              "20       3      0      2  194.250000  0.000000  36.333333  0.000000  4.500000\n",
              "21       3      1      0  233.300000  0.575000  26.173077  1.200000  0.000000\n",
              "22       3      1      1  277.767857  0.482143  16.274894  1.107143  1.267857\n",
              "23       3      1      2  310.900000  0.500000  40.500000  1.000000  5.800000\n",
              "24       3      2      0  389.000000  0.500000  32.000000  3.000000  0.000000\n",
              "25       3      2      1  139.920000  0.600000   8.986842  4.580000  1.620000\n",
              "26       3      2      2         NaN       NaN        NaN       NaN       NaN"
            ],
            "text/html": [
              "\n",
              "  <div id=\"df-ffafe0da-89e9-461e-bc79-77ed54963b55\">\n",
              "    <div class=\"colab-df-container\">\n",
              "      <div>\n",
              "<style scoped>\n",
              "    .dataframe tbody tr th:only-of-type {\n",
              "        vertical-align: middle;\n",
              "    }\n",
              "\n",
              "    .dataframe tbody tr th {\n",
              "        vertical-align: top;\n",
              "    }\n",
              "\n",
              "    .dataframe thead th {\n",
              "        text-align: right;\n",
              "    }\n",
              "</style>\n",
              "<table border=\"1\" class=\"dataframe\">\n",
              "  <thead>\n",
              "    <tr style=\"text-align: right;\">\n",
              "      <th></th>\n",
              "      <th>Pclass</th>\n",
              "      <th>binsib</th>\n",
              "      <th>binpar</th>\n",
              "      <th>Survived</th>\n",
              "      <th>Sex</th>\n",
              "      <th>Age</th>\n",
              "      <th>SibSp</th>\n",
              "      <th>Parch</th>\n",
              "    </tr>\n",
              "  </thead>\n",
              "  <tbody>\n",
              "    <tr>\n",
              "      <th>0</th>\n",
              "      <td>1</td>\n",
              "      <td>0</td>\n",
              "      <td>0</td>\n",
              "      <td>248.031250</td>\n",
              "      <td>0.675000</td>\n",
              "      <td>40.488281</td>\n",
              "      <td>0.000000</td>\n",
              "      <td>0.000000</td>\n",
              "    </tr>\n",
              "    <tr>\n",
              "      <th>1</th>\n",
              "      <td>1</td>\n",
              "      <td>0</td>\n",
              "      <td>1</td>\n",
              "      <td>204.973684</td>\n",
              "      <td>0.394737</td>\n",
              "      <td>34.000000</td>\n",
              "      <td>0.000000</td>\n",
              "      <td>1.289474</td>\n",
              "    </tr>\n",
              "    <tr>\n",
              "      <th>2</th>\n",
              "      <td>1</td>\n",
              "      <td>0</td>\n",
              "      <td>2</td>\n",
              "      <td>NaN</td>\n",
              "      <td>NaN</td>\n",
              "      <td>NaN</td>\n",
              "      <td>NaN</td>\n",
              "      <td>NaN</td>\n",
              "    </tr>\n",
              "    <tr>\n",
              "      <th>3</th>\n",
              "      <td>1</td>\n",
              "      <td>1</td>\n",
              "      <td>0</td>\n",
              "      <td>265.817073</td>\n",
              "      <td>0.451220</td>\n",
              "      <td>39.618421</td>\n",
              "      <td>1.060976</td>\n",
              "      <td>0.000000</td>\n",
              "    </tr>\n",
              "    <tr>\n",
              "      <th>4</th>\n",
              "      <td>1</td>\n",
              "      <td>1</td>\n",
              "      <td>1</td>\n",
              "      <td>336.432432</td>\n",
              "      <td>0.459459</td>\n",
              "      <td>39.241081</td>\n",
              "      <td>1.081081</td>\n",
              "      <td>1.432432</td>\n",
              "    </tr>\n",
              "    <tr>\n",
              "      <th>5</th>\n",
              "      <td>1</td>\n",
              "      <td>1</td>\n",
              "      <td>2</td>\n",
              "      <td>388.500000</td>\n",
              "      <td>0.500000</td>\n",
              "      <td>62.000000</td>\n",
              "      <td>1.000000</td>\n",
              "      <td>4.000000</td>\n",
              "    </tr>\n",
              "    <tr>\n",
              "      <th>6</th>\n",
              "      <td>1</td>\n",
              "      <td>2</td>\n",
              "      <td>0</td>\n",
              "      <td>NaN</td>\n",
              "      <td>NaN</td>\n",
              "      <td>NaN</td>\n",
              "      <td>NaN</td>\n",
              "      <td>NaN</td>\n",
              "    </tr>\n",
              "    <tr>\n",
              "      <th>7</th>\n",
              "      <td>1</td>\n",
              "      <td>2</td>\n",
              "      <td>1</td>\n",
              "      <td>194.750000</td>\n",
              "      <td>0.250000</td>\n",
              "      <td>23.500000</td>\n",
              "      <td>3.000000</td>\n",
              "      <td>2.000000</td>\n",
              "    </tr>\n",
              "    <tr>\n",
              "      <th>8</th>\n",
              "      <td>1</td>\n",
              "      <td>2</td>\n",
              "      <td>2</td>\n",
              "      <td>NaN</td>\n",
              "      <td>NaN</td>\n",
              "      <td>NaN</td>\n",
              "      <td>NaN</td>\n",
              "      <td>NaN</td>\n",
              "    </tr>\n",
              "    <tr>\n",
              "      <th>9</th>\n",
              "      <td>2</td>\n",
              "      <td>0</td>\n",
              "      <td>0</td>\n",
              "      <td>265.784810</td>\n",
              "      <td>0.734177</td>\n",
              "      <td>32.218310</td>\n",
              "      <td>0.000000</td>\n",
              "      <td>0.000000</td>\n",
              "    </tr>\n",
              "    <tr>\n",
              "      <th>10</th>\n",
              "      <td>2</td>\n",
              "      <td>0</td>\n",
              "      <td>1</td>\n",
              "      <td>259.583333</td>\n",
              "      <td>0.250000</td>\n",
              "      <td>24.513750</td>\n",
              "      <td>0.000000</td>\n",
              "      <td>1.625000</td>\n",
              "    </tr>\n",
              "    <tr>\n",
              "      <th>11</th>\n",
              "      <td>2</td>\n",
              "      <td>0</td>\n",
              "      <td>2</td>\n",
              "      <td>NaN</td>\n",
              "      <td>NaN</td>\n",
              "      <td>NaN</td>\n",
              "      <td>NaN</td>\n",
              "      <td>NaN</td>\n",
              "    </tr>\n",
              "    <tr>\n",
              "      <th>12</th>\n",
              "      <td>2</td>\n",
              "      <td>1</td>\n",
              "      <td>0</td>\n",
              "      <td>297.808511</td>\n",
              "      <td>0.617021</td>\n",
              "      <td>31.797872</td>\n",
              "      <td>1.106383</td>\n",
              "      <td>0.000000</td>\n",
              "    </tr>\n",
              "    <tr>\n",
              "      <th>13</th>\n",
              "      <td>2</td>\n",
              "      <td>1</td>\n",
              "      <td>1</td>\n",
              "      <td>215.446809</td>\n",
              "      <td>0.425532</td>\n",
              "      <td>21.562128</td>\n",
              "      <td>1.148936</td>\n",
              "      <td>1.340426</td>\n",
              "    </tr>\n",
              "    <tr>\n",
              "      <th>14</th>\n",
              "      <td>2</td>\n",
              "      <td>1</td>\n",
              "      <td>2</td>\n",
              "      <td>NaN</td>\n",
              "      <td>NaN</td>\n",
              "      <td>NaN</td>\n",
              "      <td>NaN</td>\n",
              "      <td>NaN</td>\n",
              "    </tr>\n",
              "    <tr>\n",
              "      <th>15</th>\n",
              "      <td>2</td>\n",
              "      <td>2</td>\n",
              "      <td>0</td>\n",
              "      <td>1.000000</td>\n",
              "      <td>0.000000</td>\n",
              "      <td>30.000000</td>\n",
              "      <td>3.000000</td>\n",
              "      <td>0.000000</td>\n",
              "    </tr>\n",
              "    <tr>\n",
              "      <th>16</th>\n",
              "      <td>2</td>\n",
              "      <td>2</td>\n",
              "      <td>1</td>\n",
              "      <td>NaN</td>\n",
              "      <td>NaN</td>\n",
              "      <td>NaN</td>\n",
              "      <td>NaN</td>\n",
              "      <td>NaN</td>\n",
              "    </tr>\n",
              "    <tr>\n",
              "      <th>17</th>\n",
              "      <td>2</td>\n",
              "      <td>2</td>\n",
              "      <td>2</td>\n",
              "      <td>NaN</td>\n",
              "      <td>NaN</td>\n",
              "      <td>NaN</td>\n",
              "      <td>NaN</td>\n",
              "      <td>NaN</td>\n",
              "    </tr>\n",
              "    <tr>\n",
              "      <th>18</th>\n",
              "      <td>3</td>\n",
              "      <td>0</td>\n",
              "      <td>0</td>\n",
              "      <td>243.781780</td>\n",
              "      <td>0.788136</td>\n",
              "      <td>27.607813</td>\n",
              "      <td>0.000000</td>\n",
              "      <td>0.000000</td>\n",
              "    </tr>\n",
              "    <tr>\n",
              "      <th>19</th>\n",
              "      <td>3</td>\n",
              "      <td>0</td>\n",
              "      <td>1</td>\n",
              "      <td>244.600000</td>\n",
              "      <td>0.342857</td>\n",
              "      <td>20.454194</td>\n",
              "      <td>0.000000</td>\n",
              "      <td>1.600000</td>\n",
              "    </tr>\n",
              "    <tr>\n",
              "      <th>20</th>\n",
              "      <td>3</td>\n",
              "      <td>0</td>\n",
              "      <td>2</td>\n",
              "      <td>194.250000</td>\n",
              "      <td>0.000000</td>\n",
              "      <td>36.333333</td>\n",
              "      <td>0.000000</td>\n",
              "      <td>4.500000</td>\n",
              "    </tr>\n",
              "    <tr>\n",
              "      <th>21</th>\n",
              "      <td>3</td>\n",
              "      <td>1</td>\n",
              "      <td>0</td>\n",
              "      <td>233.300000</td>\n",
              "      <td>0.575000</td>\n",
              "      <td>26.173077</td>\n",
              "      <td>1.200000</td>\n",
              "      <td>0.000000</td>\n",
              "    </tr>\n",
              "    <tr>\n",
              "      <th>22</th>\n",
              "      <td>3</td>\n",
              "      <td>1</td>\n",
              "      <td>1</td>\n",
              "      <td>277.767857</td>\n",
              "      <td>0.482143</td>\n",
              "      <td>16.274894</td>\n",
              "      <td>1.107143</td>\n",
              "      <td>1.267857</td>\n",
              "    </tr>\n",
              "    <tr>\n",
              "      <th>23</th>\n",
              "      <td>3</td>\n",
              "      <td>1</td>\n",
              "      <td>2</td>\n",
              "      <td>310.900000</td>\n",
              "      <td>0.500000</td>\n",
              "      <td>40.500000</td>\n",
              "      <td>1.000000</td>\n",
              "      <td>5.800000</td>\n",
              "    </tr>\n",
              "    <tr>\n",
              "      <th>24</th>\n",
              "      <td>3</td>\n",
              "      <td>2</td>\n",
              "      <td>0</td>\n",
              "      <td>389.000000</td>\n",
              "      <td>0.500000</td>\n",
              "      <td>32.000000</td>\n",
              "      <td>3.000000</td>\n",
              "      <td>0.000000</td>\n",
              "    </tr>\n",
              "    <tr>\n",
              "      <th>25</th>\n",
              "      <td>3</td>\n",
              "      <td>2</td>\n",
              "      <td>1</td>\n",
              "      <td>139.920000</td>\n",
              "      <td>0.600000</td>\n",
              "      <td>8.986842</td>\n",
              "      <td>4.580000</td>\n",
              "      <td>1.620000</td>\n",
              "    </tr>\n",
              "    <tr>\n",
              "      <th>26</th>\n",
              "      <td>3</td>\n",
              "      <td>2</td>\n",
              "      <td>2</td>\n",
              "      <td>NaN</td>\n",
              "      <td>NaN</td>\n",
              "      <td>NaN</td>\n",
              "      <td>NaN</td>\n",
              "      <td>NaN</td>\n",
              "    </tr>\n",
              "  </tbody>\n",
              "</table>\n",
              "</div>\n",
              "      <button class=\"colab-df-convert\" onclick=\"convertToInteractive('df-ffafe0da-89e9-461e-bc79-77ed54963b55')\"\n",
              "              title=\"Convert this dataframe to an interactive table.\"\n",
              "              style=\"display:none;\">\n",
              "        \n",
              "  <svg xmlns=\"http://www.w3.org/2000/svg\" height=\"24px\"viewBox=\"0 0 24 24\"\n",
              "       width=\"24px\">\n",
              "    <path d=\"M0 0h24v24H0V0z\" fill=\"none\"/>\n",
              "    <path d=\"M18.56 5.44l.94 2.06.94-2.06 2.06-.94-2.06-.94-.94-2.06-.94 2.06-2.06.94zm-11 1L8.5 8.5l.94-2.06 2.06-.94-2.06-.94L8.5 2.5l-.94 2.06-2.06.94zm10 10l.94 2.06.94-2.06 2.06-.94-2.06-.94-.94-2.06-.94 2.06-2.06.94z\"/><path d=\"M17.41 7.96l-1.37-1.37c-.4-.4-.92-.59-1.43-.59-.52 0-1.04.2-1.43.59L10.3 9.45l-7.72 7.72c-.78.78-.78 2.05 0 2.83L4 21.41c.39.39.9.59 1.41.59.51 0 1.02-.2 1.41-.59l7.78-7.78 2.81-2.81c.8-.78.8-2.07 0-2.86zM5.41 20L4 18.59l7.72-7.72 1.47 1.35L5.41 20z\"/>\n",
              "  </svg>\n",
              "      </button>\n",
              "      \n",
              "  <style>\n",
              "    .colab-df-container {\n",
              "      display:flex;\n",
              "      flex-wrap:wrap;\n",
              "      gap: 12px;\n",
              "    }\n",
              "\n",
              "    .colab-df-convert {\n",
              "      background-color: #E8F0FE;\n",
              "      border: none;\n",
              "      border-radius: 50%;\n",
              "      cursor: pointer;\n",
              "      display: none;\n",
              "      fill: #1967D2;\n",
              "      height: 32px;\n",
              "      padding: 0 0 0 0;\n",
              "      width: 32px;\n",
              "    }\n",
              "\n",
              "    .colab-df-convert:hover {\n",
              "      background-color: #E2EBFA;\n",
              "      box-shadow: 0px 1px 2px rgba(60, 64, 67, 0.3), 0px 1px 3px 1px rgba(60, 64, 67, 0.15);\n",
              "      fill: #174EA6;\n",
              "    }\n",
              "\n",
              "    [theme=dark] .colab-df-convert {\n",
              "      background-color: #3B4455;\n",
              "      fill: #D2E3FC;\n",
              "    }\n",
              "\n",
              "    [theme=dark] .colab-df-convert:hover {\n",
              "      background-color: #434B5C;\n",
              "      box-shadow: 0px 1px 3px 1px rgba(0, 0, 0, 0.15);\n",
              "      filter: drop-shadow(0px 1px 2px rgba(0, 0, 0, 0.3));\n",
              "      fill: #FFFFFF;\n",
              "    }\n",
              "  </style>\n",
              "\n",
              "      <script>\n",
              "        const buttonEl =\n",
              "          document.querySelector('#df-ffafe0da-89e9-461e-bc79-77ed54963b55 button.colab-df-convert');\n",
              "        buttonEl.style.display =\n",
              "          google.colab.kernel.accessAllowed ? 'block' : 'none';\n",
              "\n",
              "        async function convertToInteractive(key) {\n",
              "          const element = document.querySelector('#df-ffafe0da-89e9-461e-bc79-77ed54963b55');\n",
              "          const dataTable =\n",
              "            await google.colab.kernel.invokeFunction('convertToInteractive',\n",
              "                                                     [key], {});\n",
              "          if (!dataTable) return;\n",
              "\n",
              "          const docLinkHtml = 'Like what you see? Visit the ' +\n",
              "            '<a target=\"_blank\" href=https://colab.research.google.com/notebooks/data_table.ipynb>data table notebook</a>'\n",
              "            + ' to learn more about interactive tables.';\n",
              "          element.innerHTML = '';\n",
              "          dataTable['output_type'] = 'display_data';\n",
              "          await google.colab.output.renderOutput(dataTable, element);\n",
              "          const docLink = document.createElement('div');\n",
              "          docLink.innerHTML = docLinkHtml;\n",
              "          element.appendChild(docLink);\n",
              "        }\n",
              "      </script>\n",
              "    </div>\n",
              "  </div>\n",
              "  "
            ]
          },
          "metadata": {},
          "execution_count": 89
        }
      ]
    },
    {
      "cell_type": "code",
      "source": [
        "full_data.loc[(full_data.Age.isnull())&(full_data.Pclass==1)&(full_data.binsib==0)&(full_data.binpar==0),'Age']=41\n",
        "full_data.loc[(full_data.Age.isnull())&(full_data.Pclass==1)&(full_data.binsib==0)&(full_data.binpar==1),'Age']=34\n",
        "full_data.loc[(full_data.Age.isnull())&(full_data.Pclass==1)&(full_data.binsib==1)&(full_data.binpar==0),'Age']=40\n",
        "full_data.loc[(full_data.Age.isnull())&(full_data.Pclass==2)&(full_data.binsib==0)&(full_data.binpar==0),'Age']=32\n",
        "full_data.loc[(full_data.Age.isnull())&(full_data.Pclass==3)&(full_data.binsib==0)&(full_data.binpar==0),'Age']=28\n",
        "full_data.loc[(full_data.Age.isnull())&(full_data.Pclass==3)&(full_data.binsib==0)&(full_data.binpar==1),'Age']=21\n",
        "full_data.loc[(full_data.Age.isnull())&(full_data.Pclass==3)&(full_data.binsib==0)&(full_data.binpar==2),'Age']=36\n",
        "full_data.loc[(full_data.Age.isnull())&(full_data.Pclass==3)&(full_data.binsib==1)&(full_data.binpar==0),'Age']=26\n",
        "full_data.loc[(full_data.Age.isnull())&(full_data.Pclass==3)&(full_data.binsib==1)&(full_data.binpar==1),'Age']=16\n",
        "full_data.loc[(full_data.Age.isnull())&(full_data.Pclass==3)&(full_data.binsib==1)&(full_data.binpar==2),'Age']=41\n",
        "full_data.loc[(full_data.Age.isnull())&(full_data.Pclass==3)&(full_data.binsib==2)&(full_data.binpar==1),'Age']=9"
      ],
      "metadata": {
        "id": "FX929Pq9v-bw"
      },
      "execution_count": 90,
      "outputs": []
    },
    {
      "cell_type": "code",
      "source": [
        "full_data.Age.isnull().sum()"
      ],
      "metadata": {
        "id": "fNCDQIVlwgKJ",
        "colab": {
          "base_uri": "https://localhost:8080/"
        },
        "outputId": "8da3e6aa-f3f2-456e-9084-75c1690fcd47"
      },
      "execution_count": 91,
      "outputs": [
        {
          "output_type": "execute_result",
          "data": {
            "text/plain": [
              "0"
            ]
          },
          "metadata": {},
          "execution_count": 91
        }
      ]
    },
    {
      "cell_type": "code",
      "source": [
        "full_data.Embarked.isnull().sum( )"
      ],
      "metadata": {
        "id": "RIRrxQaDwgU8",
        "colab": {
          "base_uri": "https://localhost:8080/"
        },
        "outputId": "9e042ec9-3835-44fb-da67-a204a104a55a"
      },
      "execution_count": 92,
      "outputs": [
        {
          "output_type": "execute_result",
          "data": {
            "text/plain": [
              "2"
            ]
          },
          "metadata": {},
          "execution_count": 92
        }
      ]
    },
    {
      "cell_type": "code",
      "source": [
        "full_data.loc[(full_data.Embarked.isnull())&(full_data.Pclass==1),'Embarked']='S'"
      ],
      "metadata": {
        "id": "DpOEDANh_scW"
      },
      "execution_count": 93,
      "outputs": []
    },
    {
      "cell_type": "code",
      "source": [
        "full_data.Embarked.isnull().sum( )"
      ],
      "metadata": {
        "colab": {
          "base_uri": "https://localhost:8080/"
        },
        "id": "yBfV-0IzCq-y",
        "outputId": "921335c7-fb10-4618-951f-a75ab8ee4472"
      },
      "execution_count": 94,
      "outputs": [
        {
          "output_type": "execute_result",
          "data": {
            "text/plain": [
              "0"
            ]
          },
          "metadata": {},
          "execution_count": 94
        }
      ]
    },
    {
      "cell_type": "code",
      "source": [
        "full_data['Embarked']=LabelEncoder().fit(['C','S','Q']).transform(full_data['Embarked'])"
      ],
      "metadata": {
        "id": "_04wsRNbwktS"
      },
      "execution_count": 95,
      "outputs": []
    },
    {
      "cell_type": "code",
      "source": [
        "full_data['Embarked']"
      ],
      "metadata": {
        "id": "Zlt7uiDXwoiw",
        "colab": {
          "base_uri": "https://localhost:8080/"
        },
        "outputId": "c84b78be-f98c-4e50-a914-a25c49ac3d71"
      },
      "execution_count": 96,
      "outputs": [
        {
          "output_type": "execute_result",
          "data": {
            "text/plain": [
              "0       2\n",
              "1       0\n",
              "2       2\n",
              "3       2\n",
              "4       2\n",
              "       ..\n",
              "1304    2\n",
              "1305    0\n",
              "1306    2\n",
              "1307    2\n",
              "1308    0\n",
              "Name: Embarked, Length: 1309, dtype: int64"
            ]
          },
          "metadata": {},
          "execution_count": 96
        }
      ]
    },
    {
      "cell_type": "code",
      "source": [
        "full_data = full_data.dropna()"
      ],
      "metadata": {
        "id": "KBIm3GmtwqEs"
      },
      "execution_count": 97,
      "outputs": []
    },
    {
      "cell_type": "code",
      "source": [
        "full_data.Age.isnull().sum()"
      ],
      "metadata": {
        "id": "W8VgyD7Nwrgb",
        "colab": {
          "base_uri": "https://localhost:8080/"
        },
        "outputId": "d990172c-48dc-44e6-c0a3-ab1541adab95"
      },
      "execution_count": 98,
      "outputs": [
        {
          "output_type": "execute_result",
          "data": {
            "text/plain": [
              "0"
            ]
          },
          "metadata": {},
          "execution_count": 98
        }
      ]
    },
    {
      "cell_type": "code",
      "source": [
        "full_data.info()"
      ],
      "metadata": {
        "id": "Up3Pf2yEwtfA",
        "colab": {
          "base_uri": "https://localhost:8080/"
        },
        "outputId": "f2514e6a-9ab3-4021-8da8-3cd7e6ec3b50"
      },
      "execution_count": 99,
      "outputs": [
        {
          "output_type": "stream",
          "name": "stdout",
          "text": [
            "<class 'pandas.core.frame.DataFrame'>\n",
            "Int64Index: 1309 entries, 0 to 1308\n",
            "Data columns (total 9 columns):\n",
            " #   Column    Non-Null Count  Dtype   \n",
            "---  ------    --------------  -----   \n",
            " 0   Survived  1309 non-null   int64   \n",
            " 1   Pclass    1309 non-null   int64   \n",
            " 2   Sex       1309 non-null   int64   \n",
            " 3   Age       1309 non-null   float64 \n",
            " 4   SibSp     1309 non-null   int64   \n",
            " 5   Parch     1309 non-null   int64   \n",
            " 6   Embarked  1309 non-null   int64   \n",
            " 7   binsib    1309 non-null   category\n",
            " 8   binpar    1309 non-null   category\n",
            "dtypes: category(2), float64(1), int64(6)\n",
            "memory usage: 84.6 KB\n"
          ]
        }
      ]
    },
    {
      "cell_type": "code",
      "source": [
        "full_data['binsib']=LabelEncoder().fit([0,1,2]).transform(full_data['binsib'])"
      ],
      "metadata": {
        "id": "dGlaAlA70Iq8"
      },
      "execution_count": 100,
      "outputs": []
    },
    {
      "cell_type": "code",
      "source": [
        "full_data['binpar']=LabelEncoder().fit([0,1,2]).transform(full_data['binpar'])"
      ],
      "metadata": {
        "id": "hPf_4jGe0Sw3"
      },
      "execution_count": 101,
      "outputs": []
    },
    {
      "cell_type": "code",
      "source": [
        "full_data['family'] = full_data['SibSp']+full_data['Parch']"
      ],
      "metadata": {
        "id": "1vS-QZLBy_cu"
      },
      "execution_count": 102,
      "outputs": []
    },
    {
      "cell_type": "code",
      "source": [
        "full_data = full_data.drop(['SibSp','Parch','binsib','binpar'],axis = 1)"
      ],
      "metadata": {
        "id": "g0bkm-a8zME_"
      },
      "execution_count": 103,
      "outputs": []
    },
    {
      "cell_type": "code",
      "source": [
        "#Spiltting Test and Train Datas:\n",
        "train_data_processed = full_data[full_data['Survived'] != 777]\n",
        "test_data_processed  = full_data[full_data['Survived'] == 777]\n",
        "#test의 target변수 제거\n",
        "test_data_processed.drop(columns = 'Survived', inplace = True)"
      ],
      "metadata": {
        "id": "kwzKCJW0xBTb",
        "colab": {
          "base_uri": "https://localhost:8080/"
        },
        "outputId": "44ed3073-c8c6-4cdf-d346-cfdcf348d66e"
      },
      "execution_count": 104,
      "outputs": [
        {
          "output_type": "stream",
          "name": "stderr",
          "text": [
            "/usr/local/lib/python3.8/dist-packages/pandas/core/frame.py:4906: SettingWithCopyWarning: \n",
            "A value is trying to be set on a copy of a slice from a DataFrame\n",
            "\n",
            "See the caveats in the documentation: https://pandas.pydata.org/pandas-docs/stable/user_guide/indexing.html#returning-a-view-versus-a-copy\n",
            "  return super().drop(\n"
          ]
        }
      ]
    },
    {
      "cell_type": "code",
      "source": [
        "train_data_processed.info()"
      ],
      "metadata": {
        "id": "9UOMqsu0xBtq",
        "colab": {
          "base_uri": "https://localhost:8080/"
        },
        "outputId": "b269e58c-dfb9-47f8-b1e2-5b3ecf4c4f82"
      },
      "execution_count": 105,
      "outputs": [
        {
          "output_type": "stream",
          "name": "stdout",
          "text": [
            "<class 'pandas.core.frame.DataFrame'>\n",
            "Int64Index: 891 entries, 0 to 890\n",
            "Data columns (total 6 columns):\n",
            " #   Column    Non-Null Count  Dtype  \n",
            "---  ------    --------------  -----  \n",
            " 0   Survived  891 non-null    int64  \n",
            " 1   Pclass    891 non-null    int64  \n",
            " 2   Sex       891 non-null    int64  \n",
            " 3   Age       891 non-null    float64\n",
            " 4   Embarked  891 non-null    int64  \n",
            " 5   family    891 non-null    int64  \n",
            "dtypes: float64(1), int64(5)\n",
            "memory usage: 48.7 KB\n"
          ]
        }
      ]
    },
    {
      "cell_type": "code",
      "source": [
        "test_data_processed.info()"
      ],
      "metadata": {
        "colab": {
          "base_uri": "https://localhost:8080/"
        },
        "id": "SBa29Ihncgxx",
        "outputId": "f8133892-bb2c-4fc1-b70c-440d53e5a0bf"
      },
      "execution_count": 106,
      "outputs": [
        {
          "output_type": "stream",
          "name": "stdout",
          "text": [
            "<class 'pandas.core.frame.DataFrame'>\n",
            "Int64Index: 418 entries, 891 to 1308\n",
            "Data columns (total 5 columns):\n",
            " #   Column    Non-Null Count  Dtype  \n",
            "---  ------    --------------  -----  \n",
            " 0   Pclass    418 non-null    int64  \n",
            " 1   Sex       418 non-null    int64  \n",
            " 2   Age       418 non-null    float64\n",
            " 3   Embarked  418 non-null    int64  \n",
            " 4   family    418 non-null    int64  \n",
            "dtypes: float64(1), int64(4)\n",
            "memory usage: 19.6 KB\n"
          ]
        }
      ]
    },
    {
      "cell_type": "code",
      "source": [
        "train_data_processed.describe()"
      ],
      "metadata": {
        "colab": {
          "base_uri": "https://localhost:8080/",
          "height": 300
        },
        "id": "VO-1z96zHQxX",
        "outputId": "0e023901-10d9-4651-d7f8-fc78c68f1bfa"
      },
      "execution_count": 107,
      "outputs": [
        {
          "output_type": "execute_result",
          "data": {
            "text/plain": [
              "         Survived      Pclass         Sex         Age    Embarked      family\n",
              "count  891.000000  891.000000  891.000000  891.000000  891.000000  891.000000\n",
              "mean     0.383838    2.308642    0.647587   29.468204    1.536476    0.904602\n",
              "std      0.486592    0.836071    0.477990   13.427721    0.791503    1.613459\n",
              "min      0.000000    1.000000    0.000000    0.420000    0.000000    0.000000\n",
              "25%      0.000000    2.000000    0.000000   21.500000    1.000000    0.000000\n",
              "50%      0.000000    3.000000    1.000000   28.000000    2.000000    0.000000\n",
              "75%      1.000000    3.000000    1.000000   36.750000    2.000000    1.000000\n",
              "max      1.000000    3.000000    1.000000   80.000000    2.000000   10.000000"
            ],
            "text/html": [
              "\n",
              "  <div id=\"df-f5ff793d-d0b2-4e93-a5d5-b6294df4d432\">\n",
              "    <div class=\"colab-df-container\">\n",
              "      <div>\n",
              "<style scoped>\n",
              "    .dataframe tbody tr th:only-of-type {\n",
              "        vertical-align: middle;\n",
              "    }\n",
              "\n",
              "    .dataframe tbody tr th {\n",
              "        vertical-align: top;\n",
              "    }\n",
              "\n",
              "    .dataframe thead th {\n",
              "        text-align: right;\n",
              "    }\n",
              "</style>\n",
              "<table border=\"1\" class=\"dataframe\">\n",
              "  <thead>\n",
              "    <tr style=\"text-align: right;\">\n",
              "      <th></th>\n",
              "      <th>Survived</th>\n",
              "      <th>Pclass</th>\n",
              "      <th>Sex</th>\n",
              "      <th>Age</th>\n",
              "      <th>Embarked</th>\n",
              "      <th>family</th>\n",
              "    </tr>\n",
              "  </thead>\n",
              "  <tbody>\n",
              "    <tr>\n",
              "      <th>count</th>\n",
              "      <td>891.000000</td>\n",
              "      <td>891.000000</td>\n",
              "      <td>891.000000</td>\n",
              "      <td>891.000000</td>\n",
              "      <td>891.000000</td>\n",
              "      <td>891.000000</td>\n",
              "    </tr>\n",
              "    <tr>\n",
              "      <th>mean</th>\n",
              "      <td>0.383838</td>\n",
              "      <td>2.308642</td>\n",
              "      <td>0.647587</td>\n",
              "      <td>29.468204</td>\n",
              "      <td>1.536476</td>\n",
              "      <td>0.904602</td>\n",
              "    </tr>\n",
              "    <tr>\n",
              "      <th>std</th>\n",
              "      <td>0.486592</td>\n",
              "      <td>0.836071</td>\n",
              "      <td>0.477990</td>\n",
              "      <td>13.427721</td>\n",
              "      <td>0.791503</td>\n",
              "      <td>1.613459</td>\n",
              "    </tr>\n",
              "    <tr>\n",
              "      <th>min</th>\n",
              "      <td>0.000000</td>\n",
              "      <td>1.000000</td>\n",
              "      <td>0.000000</td>\n",
              "      <td>0.420000</td>\n",
              "      <td>0.000000</td>\n",
              "      <td>0.000000</td>\n",
              "    </tr>\n",
              "    <tr>\n",
              "      <th>25%</th>\n",
              "      <td>0.000000</td>\n",
              "      <td>2.000000</td>\n",
              "      <td>0.000000</td>\n",
              "      <td>21.500000</td>\n",
              "      <td>1.000000</td>\n",
              "      <td>0.000000</td>\n",
              "    </tr>\n",
              "    <tr>\n",
              "      <th>50%</th>\n",
              "      <td>0.000000</td>\n",
              "      <td>3.000000</td>\n",
              "      <td>1.000000</td>\n",
              "      <td>28.000000</td>\n",
              "      <td>2.000000</td>\n",
              "      <td>0.000000</td>\n",
              "    </tr>\n",
              "    <tr>\n",
              "      <th>75%</th>\n",
              "      <td>1.000000</td>\n",
              "      <td>3.000000</td>\n",
              "      <td>1.000000</td>\n",
              "      <td>36.750000</td>\n",
              "      <td>2.000000</td>\n",
              "      <td>1.000000</td>\n",
              "    </tr>\n",
              "    <tr>\n",
              "      <th>max</th>\n",
              "      <td>1.000000</td>\n",
              "      <td>3.000000</td>\n",
              "      <td>1.000000</td>\n",
              "      <td>80.000000</td>\n",
              "      <td>2.000000</td>\n",
              "      <td>10.000000</td>\n",
              "    </tr>\n",
              "  </tbody>\n",
              "</table>\n",
              "</div>\n",
              "      <button class=\"colab-df-convert\" onclick=\"convertToInteractive('df-f5ff793d-d0b2-4e93-a5d5-b6294df4d432')\"\n",
              "              title=\"Convert this dataframe to an interactive table.\"\n",
              "              style=\"display:none;\">\n",
              "        \n",
              "  <svg xmlns=\"http://www.w3.org/2000/svg\" height=\"24px\"viewBox=\"0 0 24 24\"\n",
              "       width=\"24px\">\n",
              "    <path d=\"M0 0h24v24H0V0z\" fill=\"none\"/>\n",
              "    <path d=\"M18.56 5.44l.94 2.06.94-2.06 2.06-.94-2.06-.94-.94-2.06-.94 2.06-2.06.94zm-11 1L8.5 8.5l.94-2.06 2.06-.94-2.06-.94L8.5 2.5l-.94 2.06-2.06.94zm10 10l.94 2.06.94-2.06 2.06-.94-2.06-.94-.94-2.06-.94 2.06-2.06.94z\"/><path d=\"M17.41 7.96l-1.37-1.37c-.4-.4-.92-.59-1.43-.59-.52 0-1.04.2-1.43.59L10.3 9.45l-7.72 7.72c-.78.78-.78 2.05 0 2.83L4 21.41c.39.39.9.59 1.41.59.51 0 1.02-.2 1.41-.59l7.78-7.78 2.81-2.81c.8-.78.8-2.07 0-2.86zM5.41 20L4 18.59l7.72-7.72 1.47 1.35L5.41 20z\"/>\n",
              "  </svg>\n",
              "      </button>\n",
              "      \n",
              "  <style>\n",
              "    .colab-df-container {\n",
              "      display:flex;\n",
              "      flex-wrap:wrap;\n",
              "      gap: 12px;\n",
              "    }\n",
              "\n",
              "    .colab-df-convert {\n",
              "      background-color: #E8F0FE;\n",
              "      border: none;\n",
              "      border-radius: 50%;\n",
              "      cursor: pointer;\n",
              "      display: none;\n",
              "      fill: #1967D2;\n",
              "      height: 32px;\n",
              "      padding: 0 0 0 0;\n",
              "      width: 32px;\n",
              "    }\n",
              "\n",
              "    .colab-df-convert:hover {\n",
              "      background-color: #E2EBFA;\n",
              "      box-shadow: 0px 1px 2px rgba(60, 64, 67, 0.3), 0px 1px 3px 1px rgba(60, 64, 67, 0.15);\n",
              "      fill: #174EA6;\n",
              "    }\n",
              "\n",
              "    [theme=dark] .colab-df-convert {\n",
              "      background-color: #3B4455;\n",
              "      fill: #D2E3FC;\n",
              "    }\n",
              "\n",
              "    [theme=dark] .colab-df-convert:hover {\n",
              "      background-color: #434B5C;\n",
              "      box-shadow: 0px 1px 3px 1px rgba(0, 0, 0, 0.15);\n",
              "      filter: drop-shadow(0px 1px 2px rgba(0, 0, 0, 0.3));\n",
              "      fill: #FFFFFF;\n",
              "    }\n",
              "  </style>\n",
              "\n",
              "      <script>\n",
              "        const buttonEl =\n",
              "          document.querySelector('#df-f5ff793d-d0b2-4e93-a5d5-b6294df4d432 button.colab-df-convert');\n",
              "        buttonEl.style.display =\n",
              "          google.colab.kernel.accessAllowed ? 'block' : 'none';\n",
              "\n",
              "        async function convertToInteractive(key) {\n",
              "          const element = document.querySelector('#df-f5ff793d-d0b2-4e93-a5d5-b6294df4d432');\n",
              "          const dataTable =\n",
              "            await google.colab.kernel.invokeFunction('convertToInteractive',\n",
              "                                                     [key], {});\n",
              "          if (!dataTable) return;\n",
              "\n",
              "          const docLinkHtml = 'Like what you see? Visit the ' +\n",
              "            '<a target=\"_blank\" href=https://colab.research.google.com/notebooks/data_table.ipynb>data table notebook</a>'\n",
              "            + ' to learn more about interactive tables.';\n",
              "          element.innerHTML = '';\n",
              "          dataTable['output_type'] = 'display_data';\n",
              "          await google.colab.output.renderOutput(dataTable, element);\n",
              "          const docLink = document.createElement('div');\n",
              "          docLink.innerHTML = docLinkHtml;\n",
              "          element.appendChild(docLink);\n",
              "        }\n",
              "      </script>\n",
              "    </div>\n",
              "  </div>\n",
              "  "
            ]
          },
          "metadata": {},
          "execution_count": 107
        }
      ]
    },
    {
      "cell_type": "code",
      "source": [
        "corr_matrix = train_data_processed.corr()\n",
        "plt.figure(figsize=(9, 8))\n",
        "sns.heatmap(data = corr_matrix,cmap='Blues', annot=True, linewidths=0.2)"
      ],
      "metadata": {
        "colab": {
          "base_uri": "https://localhost:8080/"
        },
        "id": "BfjndZOjH1wF",
        "outputId": "37c98025-7988-405a-ddb6-be044a88e154"
      },
      "execution_count": 108,
      "outputs": [
        {
          "output_type": "execute_result",
          "data": {
            "text/plain": [
              "<matplotlib.axes._subplots.AxesSubplot at 0x7f6d32943580>"
            ]
          },
          "metadata": {},
          "execution_count": 108
        }
      ]
    },
    {
      "cell_type": "code",
      "source": [
        "#@title Age distribution in Pclasses in titanic\n",
        "fig = plt.figure(figsize=(12, 8))\n",
        "gs = fig.add_gridspec(3,1)\n",
        "gs.update(hspace= -0.55)\n",
        "\n",
        "axes = list()\n",
        "colors = [\"#022133\", \"#5c693b\", \"#51371c\"]\n",
        "\n",
        "for idx, cls, c in zip(range(3), sorted(train_data_processed['Pclass'].unique()), colors):\n",
        "    axes.append(fig.add_subplot(gs[idx, 0]))\n",
        "    \n",
        "    # you can also draw density plot with matplotlib + scipy.\n",
        "    sns.kdeplot(x='Age', data=train_data_processed[train_data_processed['Pclass']==cls], \n",
        "                fill=True, ax=axes[idx], cut=0, bw_method=0.25, \n",
        "                lw=1.4, edgecolor='lightgray', hue='Survived', \n",
        "                multiple=\"stack\", palette='Oranges', alpha=0.7\n",
        "               ) \n",
        "    \n",
        "    axes[idx].set_ylim(0, 0.1)\n",
        "    axes[idx].set_xlim(0, 85)\n",
        "    \n",
        "    axes[idx].set_yticks([])\n",
        "    if idx != 2 : axes[idx].set_xticks([])\n",
        "    axes[idx].set_ylabel('')\n",
        "    axes[idx].set_xlabel('')\n",
        "    \n",
        "    spines = [\"top\",\"right\",\"left\",\"bottom\"]\n",
        "    for s in spines:\n",
        "        axes[idx].spines[s].set_visible(False)\n",
        "        \n",
        "    axes[idx].patch.set_alpha(0)\n",
        "    axes[idx].text(-0.2,0,f'Pclass {cls}',fontweight=\"light\", fontfamily='serif', fontsize=11,ha=\"right\")\n",
        "    if idx != 1 : axes[idx].get_legend().remove()\n",
        "        \n",
        "#fig.text(0.13,0.81,\"Age distribution by Pclass in Titanic\", fontweight=\"bold\", fontfamily='serif', fontsize=16)\n",
        "\n",
        "plt.show() "
      ],
      "metadata": {
        "id": "ijgyBY0yJyMp"
      },
      "execution_count": 109,
      "outputs": []
    },
    {
      "cell_type": "markdown",
      "source": [],
      "metadata": {
        "id": "o6gQPkC8xA_0"
      }
    },
    {
      "cell_type": "markdown",
      "source": [],
      "metadata": {
        "id": "bJwUv1uqKdg3"
      }
    }
  ]
}